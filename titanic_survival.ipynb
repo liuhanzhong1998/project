{
 "cells": [
  {
   "cell_type": "code",
   "execution_count": 132,
   "metadata": {},
   "outputs": [],
   "source": [
    "import pandas as pd\n",
    "import numpy as np\n",
    "from IPython.display import display \n",
    "from sklearn.model_selection import train_test_split #分割数据\n",
    "from sklearn.preprocessing import StandardScaler     #标准化数据\n",
    "from sklearn.linear_model import LogisticRegression  #逻辑回归\n",
    "from sklearn.linear_model import SGDClassifier       #随即梯度\n",
    "from sklearn.neighbors import KNeighborsClassifier   #近邻算法\n",
    "from sklearn.metrics import classification_report    # 从sklearn.metrics里导入classification_report模块。\n",
    "from sklearn.tree import DecisionTreeClassifier      # 决策树分类器。\n",
    "\n",
    "%matplotlib inline"
   ]
  },
  {
   "cell_type": "code",
   "execution_count": 133,
   "metadata": {},
   "outputs": [
    {
     "data": {
      "text/html": [
       "<div>\n",
       "<style scoped>\n",
       "    .dataframe tbody tr th:only-of-type {\n",
       "        vertical-align: middle;\n",
       "    }\n",
       "\n",
       "    .dataframe tbody tr th {\n",
       "        vertical-align: top;\n",
       "    }\n",
       "\n",
       "    .dataframe thead th {\n",
       "        text-align: right;\n",
       "    }\n",
       "</style>\n",
       "<table border=\"1\" class=\"dataframe\">\n",
       "  <thead>\n",
       "    <tr style=\"text-align: right;\">\n",
       "      <th></th>\n",
       "      <th>PassengerId</th>\n",
       "      <th>Pclass</th>\n",
       "      <th>Sex</th>\n",
       "      <th>Age</th>\n",
       "      <th>SibSp</th>\n",
       "      <th>Parch</th>\n",
       "      <th>Fare</th>\n",
       "    </tr>\n",
       "  </thead>\n",
       "  <tbody>\n",
       "    <tr>\n",
       "      <td>0</td>\n",
       "      <td>1</td>\n",
       "      <td>3</td>\n",
       "      <td>1</td>\n",
       "      <td>22.0</td>\n",
       "      <td>1</td>\n",
       "      <td>0</td>\n",
       "      <td>7.2500</td>\n",
       "    </tr>\n",
       "    <tr>\n",
       "      <td>1</td>\n",
       "      <td>2</td>\n",
       "      <td>1</td>\n",
       "      <td>0</td>\n",
       "      <td>38.0</td>\n",
       "      <td>1</td>\n",
       "      <td>0</td>\n",
       "      <td>71.2833</td>\n",
       "    </tr>\n",
       "    <tr>\n",
       "      <td>2</td>\n",
       "      <td>3</td>\n",
       "      <td>3</td>\n",
       "      <td>0</td>\n",
       "      <td>26.0</td>\n",
       "      <td>0</td>\n",
       "      <td>0</td>\n",
       "      <td>7.9250</td>\n",
       "    </tr>\n",
       "    <tr>\n",
       "      <td>3</td>\n",
       "      <td>4</td>\n",
       "      <td>1</td>\n",
       "      <td>0</td>\n",
       "      <td>35.0</td>\n",
       "      <td>1</td>\n",
       "      <td>0</td>\n",
       "      <td>53.1000</td>\n",
       "    </tr>\n",
       "    <tr>\n",
       "      <td>4</td>\n",
       "      <td>5</td>\n",
       "      <td>3</td>\n",
       "      <td>1</td>\n",
       "      <td>35.0</td>\n",
       "      <td>0</td>\n",
       "      <td>0</td>\n",
       "      <td>8.0500</td>\n",
       "    </tr>\n",
       "  </tbody>\n",
       "</table>\n",
       "</div>"
      ],
      "text/plain": [
       "   PassengerId  Pclass  Sex   Age  SibSp  Parch     Fare\n",
       "0            1       3    1  22.0      1      0   7.2500\n",
       "1            2       1    0  38.0      1      0  71.2833\n",
       "2            3       3    0  26.0      0      0   7.9250\n",
       "3            4       1    0  35.0      1      0  53.1000\n",
       "4            5       3    1  35.0      0      0   8.0500"
      ]
     },
     "metadata": {},
     "output_type": "display_data"
    }
   ],
   "source": [
    "data = pd.read_csv(r'C:\\Users\\Loser\\Downloads\\machine-learning-master\\machine-learning-master\\projects\\titanic_survival_exploration\\titanic_data.csv')\n",
    "column_names = ['PassengerId', 'Pclass', 'Sex', 'Age', 'SibSp', 'Parch', 'Fare']\n",
    "data=data.replace(to_replace='male',value=1)\n",
    "data=data.replace(to_replace='female',value=0)\n",
    "data=data.drop(['Survived','Name','Ticket','Cabin','Embarked'],axis=1)\n",
    "data = data.dropna(how='any')\n",
    "X_train, X_test, y_train, y_test = train_test_split(data[column_names[2:8]], data[column_names[1]], test_size=0.25, random_state=33)\n",
    "display(data.head())\n"
   ]
  },
  {
   "cell_type": "code",
   "execution_count": 134,
   "metadata": {},
   "outputs": [],
   "source": [
    "#数据标准化\n",
    "ss = StandardScaler()\n",
    "X_train = ss.fit_transform(X_train)\n",
    "X_test = ss.transform(X_test)           # 标准化数据，保证每个维度的特征数据方差为1，均值为0。使得预测结果不会被某些维度过大的特征值而主导。\n"
   ]
  },
  {
   "cell_type": "code",
   "execution_count": 150,
   "metadata": {},
   "outputs": [
    {
     "name": "stderr",
     "output_type": "stream",
     "text": [
      "C:\\Users\\Loser\\Anaconda3\\lib\\site-packages\\sklearn\\linear_model\\logistic.py:432: FutureWarning: Default solver will be changed to 'lbfgs' in 0.22. Specify a solver to silence this warning.\n",
      "  FutureWarning)\n",
      "C:\\Users\\Loser\\Anaconda3\\lib\\site-packages\\sklearn\\linear_model\\logistic.py:469: FutureWarning: Default multi_class will be changed to 'auto' in 0.22. Specify the multi_class option to silence this warning.\n",
      "  \"this warning.\", FutureWarning)\n"
     ]
    }
   ],
   "source": [
    "#逻辑预测\n",
    "lr = LogisticRegression()               # 初始化LogisticRegression与SGDClassifier。\n",
    "lr.fit(X_train, y_train)                # 调用LogisticRegression中的fit函数/模块用来训练模型参数。\n",
    "lr_y_predict = lr.predict(X_test)       # 使用训练好的模型lr对X_test进行预测，结果储存在变量lr_y_predict中。"
   ]
  },
  {
   "cell_type": "code",
   "execution_count": 136,
   "metadata": {},
   "outputs": [
    {
     "name": "stdout",
     "output_type": "stream",
     "text": [
      "Accuracy of LR Classifier: 0.770949720670391\n"
     ]
    }
   ],
   "source": [
    "#逻辑预测分析\n",
    "from sklearn.metrics import classification_report              # 从sklearn.metrics里导入classification_report模块。\n",
    "print ('Accuracy of LR Classifier:', lr.score(X_test, y_test))   # 使用逻辑斯蒂回归模型自带的评分函数score获得模型在测试集上的准确性结果。\n",
    "#print (classification_report(y_test, lr_y_predict, target_names=['Benign', 'Malignant']))# 利用classification_report模块获得LogisticRegression其他三个指标的结果。"
   ]
  },
  {
   "cell_type": "code",
   "execution_count": 151,
   "metadata": {},
   "outputs": [],
   "source": [
    "#随机梯度预测\n",
    "sgdc = SGDClassifier()\n",
    "sgdc.fit(X_train, y_train)              # 调用SGDClassifier中的fit函数/模块用来训练模型参数。\n",
    "sgdc_y_predict = sgdc.predict(X_test)   # 使用训练好的模型sgdc对X_test进行预测，结果储存在变量sgdc_y_predict中。"
   ]
  },
  {
   "cell_type": "code",
   "execution_count": 147,
   "metadata": {},
   "outputs": [
    {
     "name": "stdout",
     "output_type": "stream",
     "text": [
      "Accuarcy of SGD Classifier: 0.776536312849162\n"
     ]
    }
   ],
   "source": [
    "#随机梯度预测分析\n",
    "print ('Accuarcy of SGD Classifier:', sgdc.score(X_test, y_test))# 使用随机梯度下降模型自带的评分函数score获得模型在测试集上的准确性结果。\n",
    "#print (classification_report(y_test, sgdc_y_predict, target_names=['Benign', 'Malignant']))# 利用classification_report模块获得SGDClassifier其他三个指标的结果。\n"
   ]
  },
  {
   "cell_type": "code",
   "execution_count": 148,
   "metadata": {},
   "outputs": [],
   "source": [
    "#近邻预测\n",
    "knc = KNeighborsClassifier()\n",
    "knc.fit(X_train, y_train)\n",
    "y_predict = knc.predict(X_test)         # 使用K近邻分类器对测试数据进行类别预测，预测结果储存在变量y_predict中。"
   ]
  },
  {
   "cell_type": "code",
   "execution_count": 145,
   "metadata": {},
   "outputs": [
    {
     "name": "stdout",
     "output_type": "stream",
     "text": [
      "The accuracy of K-Nearest Neighbor Classifier is 0.7877094972067039\n"
     ]
    }
   ],
   "source": [
    "#近邻预测分析\n",
    "print ('The accuracy of K-Nearest Neighbor Classifier is', knc.score(X_test, y_test) )\n",
    "#print (classification_report(y_test, y_predict, target_names=iris.target_names))"
   ]
  },
  {
   "cell_type": "code",
   "execution_count": 142,
   "metadata": {},
   "outputs": [],
   "source": [
    "#决策树预测\n",
    "dtc = DecisionTreeClassifier()       # 使用默认配置初始化决策树分类器。\n",
    "\n",
    "dtc.fit(X_train, y_train)            # 使用分割到的训练数据进行模型学习。\n",
    "\n",
    "y_predict = dtc.predict(X_test)      # 用训练好的决策树模型对测试特征数据进行预测。"
   ]
  },
  {
   "cell_type": "code",
   "execution_count": 143,
   "metadata": {},
   "outputs": [
    {
     "name": "stdout",
     "output_type": "stream",
     "text": [
      "Accuracy of LR Classifier: 0.770949720670391\n",
      "0.9106145251396648\n"
     ]
    }
   ],
   "source": [
    "#决策树预测分析\n",
    "print( 'Accuracy of LR Classifier:', lr.score(X_test, y_test))# 使用逻辑斯蒂回归模型自带的评分函数score获得模型在测试集上的准确性结果。\n",
    "\n",
    "\n",
    "print (dtc.score(X_test, y_test))                    # 输出预测准确性。\n",
    "\n",
    "#print (classification_report(y_test,lr_y_predict, target_names=['died', 'survived']))# 利用classification_report模块获得LogisticRegression其他三个指标的结果。\n",
    "\n"
   ]
  }
 ],
 "metadata": {
  "kernelspec": {
   "display_name": "Python 3",
   "language": "python",
   "name": "python3"
  },
  "language_info": {
   "codemirror_mode": {
    "name": "ipython",
    "version": 3
   },
   "file_extension": ".py",
   "mimetype": "text/x-python",
   "name": "python",
   "nbconvert_exporter": "python",
   "pygments_lexer": "ipython3",
   "version": "3.7.4"
  }
 },
 "nbformat": 4,
 "nbformat_minor": 2
}
